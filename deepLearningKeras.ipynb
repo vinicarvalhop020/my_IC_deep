{
 "cells": [
  {
   "cell_type": "markdown",
   "metadata": {},
   "source": [
    "# Carregamento bibliotecas"
   ]
  },
  {
   "cell_type": "code",
   "execution_count": 1,
   "metadata": {},
   "outputs": [],
   "source": [
    "import pandas as pd\n",
    "import seaborn as sns\n",
    "import matplotlib.pyplot as plt\n",
    "import numpy as np\n",
    "from sklearn.preprocessing import LabelEncoder\n",
    "import tensorflow as tf\n",
    "from sklearn.metrics import classification_report\n",
    "from sklearn.metrics import accuracy_score\n"
   ]
  },
  {
   "cell_type": "markdown",
   "metadata": {},
   "source": [
    "# Carregamento e limpeza do dataset"
   ]
  },
  {
   "cell_type": "code",
   "execution_count": 2,
   "metadata": {},
   "outputs": [],
   "source": [
    "incaData = pd.read_csv(r'E:\\IniciacaoCientifica\\DeepLearning1st\\inca15.csv',low_memory = False)\n",
    "\n"
   ]
  },
  {
   "cell_type": "code",
   "execution_count": 3,
   "metadata": {},
   "outputs": [],
   "source": [
    "incaData = incaData.drop(incaData[incaData['estadofinal'] > 8].index)\n",
    "incaData['idade1'][incaData['idade1'] > 0].mean()\n",
    "incaData.loc[incaData['idade1'] < 0,'idade1'] = 58\n",
    "incaData = incaData.drop(incaData[incaData['racacor'] >= 99].index)\n"
   ]
  },
  {
   "cell_type": "markdown",
   "metadata": {},
   "source": [
    "### Remapeamento"
   ]
  },
  {
   "cell_type": "code",
   "execution_count": 4,
   "metadata": {},
   "outputs": [],
   "source": [
    "# Definir um dicionário para mapear os valores a serem substituídos\n",
    "mapeamento = {1: 0, 2: 1, 3: 2, 4: 3, 5: 4, 8: 5}\n",
    "\n",
    "# Aplicar a substituição usando list comprehension\n",
    "incaData['estadofinal'] = incaData['estadofinal'].replace(mapeamento)"
   ]
  },
  {
   "cell_type": "code",
   "execution_count": 5,
   "metadata": {},
   "outputs": [
    {
     "data": {
      "text/plain": [
       "<Axes: title={'center': 'Estado da doença ao final do primeiro tratamento no hospital'}, xlabel='estadofinal', ylabel='count'>"
      ]
     },
     "execution_count": 5,
     "metadata": {},
     "output_type": "execute_result"
    },
    {
     "data": {
      "image/png": "[encoded data removed]",
      "text/plain": [
       "<Figure size 1000x600 with 1 Axes>"
      ]
     },
     "metadata": {},
     "output_type": "display_data"
    }
   ],
   "source": [
    "plt.figure(figsize=(10, 6))  # Ajuste o tamanho da figura conforme necessário\n",
    "plt.title(\"Estado da doença ao final do primeiro tratamento no hospital\")\n",
    "sns.countplot(x = incaData['estadofinal'])\n",
    "#0.Sem evidência da doença (remissão completa); 1.Remissão parcial;2.Doença estável; 3.Doença em progressão; 4.Suporte terapêutico oncológico; 5. Óbito; 6. Não se aplica;\n",
    "\n",
    "#Pode retirar da base de dados durante o treinamento o valor 9, sem informação?\n",
    "#Teste feitos sem considerar esse atributo"
   ]
  },
  {
   "cell_type": "markdown",
   "metadata": {},
   "source": [
    "# Treinamento"
   ]
  },
  {
   "cell_type": "markdown",
   "metadata": {},
   "source": [
    "## Divisao entre previsores e classe"
   ]
  },
  {
   "cell_type": "code",
   "execution_count": 6,
   "metadata": {},
   "outputs": [
    {
     "data": {
      "text/plain": [
       "(1304004, 15)"
      ]
     },
     "execution_count": 6,
     "metadata": {},
     "output_type": "execute_result"
    }
   ],
   "source": [
    "X = incaData.iloc[:, 0:15].values\n",
    "X.shape"
   ]
  },
  {
   "cell_type": "code",
   "execution_count": 7,
   "metadata": {},
   "outputs": [
    {
     "data": {
      "text/plain": [
       "array([[2, 2, 31, ..., 55, '8500', '3 '],\n",
       "       [2, 4, 15, ..., 41, '8070', '3 '],\n",
       "       [2, 4, 31, ..., 72, '8140', '3 '],\n",
       "       ...,\n",
       "       [2, 4, 31, ..., 57, '8140', '3 '],\n",
       "       [2, 4, 31, ..., 78, '8480', '3 '],\n",
       "       [2, 4, 24, ..., 72, '8140', '3 ']], dtype=object)"
      ]
     },
     "execution_count": 7,
     "metadata": {},
     "output_type": "execute_result"
    }
   ],
   "source": [
    "X"
   ]
  },
  {
   "cell_type": "code",
   "execution_count": 8,
   "metadata": {},
   "outputs": [
    {
     "data": {
      "text/plain": [
       "(1304004,)"
      ]
     },
     "execution_count": 8,
     "metadata": {},
     "output_type": "execute_result"
    }
   ],
   "source": [
    "y = incaData.iloc[:, 15].values\n",
    "y.shape"
   ]
  },
  {
   "cell_type": "markdown",
   "metadata": {},
   "source": [
    "## Tratamento dos atributos Categoricos"
   ]
  },
  {
   "cell_type": "markdown",
   "metadata": {},
   "source": [
    "## Label encoder"
   ]
  },
  {
   "cell_type": "code",
   "execution_count": 9,
   "metadata": {},
   "outputs": [],
   "source": [
    "from sklearn.preprocessing import LabelEncoder\n"
   ]
  },
  {
   "cell_type": "code",
   "execution_count": 10,
   "metadata": {},
   "outputs": [],
   "source": [
    "label_encoder_loctudet = LabelEncoder()\n",
    "label_encoder_tnm = LabelEncoder()\n",
    "label_encoder_estadiam = LabelEncoder()\n",
    "label_encoder_tipohist1 = LabelEncoder()\n",
    "label_encoder_tipohist2 = LabelEncoder()"
   ]
  },
  {
   "cell_type": "code",
   "execution_count": 11,
   "metadata": {},
   "outputs": [],
   "source": [
    "X[:,6] = label_encoder_loctudet.fit_transform(X[:,6])\n",
    "X[:,7] = label_encoder_tnm.fit_transform(X[:,7])\n",
    "X[:,8] = label_encoder_estadiam.fit_transform(X[:,8])\n",
    "X[:,13] = label_encoder_tipohist1.fit_transform(X[:,13])\n",
    "X[:,14] = label_encoder_tipohist2.fit_transform(X[:,14])"
   ]
  },
  {
   "cell_type": "markdown",
   "metadata": {},
   "source": [
    "## Escalonamento de valores"
   ]
  },
  {
   "cell_type": "code",
   "execution_count": 12,
   "metadata": {},
   "outputs": [],
   "source": [
    "from sklearn.preprocessing import StandardScaler\n",
    "scaler = StandardScaler()\n",
    "X = scaler.fit_transform(X)"
   ]
  },
  {
   "cell_type": "markdown",
   "metadata": {},
   "source": [
    "## Divisão treino-teste"
   ]
  },
  {
   "cell_type": "code",
   "execution_count": 18,
   "metadata": {},
   "outputs": [],
   "source": [
    "from sklearn.model_selection import train_test_split"
   ]
  },
  {
   "cell_type": "code",
   "execution_count": 19,
   "metadata": {},
   "outputs": [],
   "source": [
    "X_train, X_test, y_train , y_test  = train_test_split(X, y, test_size = 0.10, random_state = 0)"
   ]
  },
  {
   "cell_type": "code",
   "execution_count": 20,
   "metadata": {},
   "outputs": [
    {
     "data": {
      "text/plain": [
       "array([[-1.13561184, -0.38610677,  0.02896082, ..., -0.38442563,\n",
       "         1.29179254,  0.2214147 ],\n",
       "       [-1.13561184,  2.61230774,  0.02896082, ...,  1.46205497,\n",
       "        -0.78698409,  0.2214147 ],\n",
       "       [ 0.88058258,  0.47058309, -0.06284446, ..., -0.62268119,\n",
       "        -0.68139543, -3.61378923],\n",
       "       ...,\n",
       "       [-1.13561184,  0.47058309,  0.76340306, ...,  0.86641607,\n",
       "        -0.46361883,  0.2214147 ],\n",
       "       [ 0.88058258, -0.8144517 ,  0.94701363, ...,  0.68772439,\n",
       "        -0.54281032,  0.2214147 ],\n",
       "       [ 0.88058258, -0.8144517 ,  0.02896082, ...,  0.56859661,\n",
       "        -0.46361883,  0.2214147 ]])"
      ]
     },
     "execution_count": 20,
     "metadata": {},
     "output_type": "execute_result"
    }
   ],
   "source": [
    "X_train"
   ]
  },
  {
   "cell_type": "markdown",
   "metadata": {},
   "source": [
    "# Teste utilizando SMOTE"
   ]
  },
  {
   "cell_type": "code",
   "execution_count": 61,
   "metadata": {},
   "outputs": [],
   "source": [
    "from imblearn.over_sampling import SMOTE\n",
    "smote = SMOTE()"
   ]
  },
  {
   "cell_type": "code",
   "execution_count": 62,
   "metadata": {},
   "outputs": [],
   "source": [
    "smote_X_train, smote_y_train = smote.fit_resample(X_train.astype('float'), y_train)"
   ]
  },
  {
   "cell_type": "code",
   "execution_count": 68,
   "metadata": {},
   "outputs": [
    {
     "name": "stdout",
     "output_type": "stream",
     "text": [
      "Before SMOTE : Counter({0: 427590, 2: 403995, 3: 135361, 1: 105398, 5: 65726, 4: 35533})\n",
      "After SMOTE : Counter({1: 427590, 0: 427590, 2: 427590, 3: 427590, 5: 427590, 4: 427590})\n"
     ]
    }
   ],
   "source": [
    "from collections import Counter\n",
    "print(\"Before SMOTE :\" , Counter(y_train))\n",
    "print(\"After SMOTE :\", Counter(smote_y_train))"
   ]
  },
  {
   "cell_type": "code",
   "execution_count": 75,
   "metadata": {},
   "outputs": [
    {
     "data": {
      "image/png": "[encoded data removed]",
      "text/plain": [
       "<Figure size 640x480 with 1 Axes>"
      ]
     },
     "metadata": {},
     "output_type": "display_data"
    }
   ],
   "source": [
    "import matplotlib.pyplot as plt\n",
    "from collections import Counter\n",
    "\n",
    "# Dados fornecidos\n",
    "before_smote = Counter(y_train)\n",
    "after_smote = Counter(smote_y_train)\n",
    "\n",
    "# Preparar dados para o gráfico\n",
    "labels = list(before_smote.keys())\n",
    "before_counts = list(before_smote.values())\n",
    "after_counts = [after_smote[label] for label in labels]\n",
    "\n",
    "x = range(len(labels))\n",
    "\n",
    "# Criar o gráfico de barras\n",
    "fig, ax = plt.subplots()\n",
    "bar_width = 0.35\n",
    "\n",
    "bar1 = ax.bar(x, before_counts, bar_width, label='Before SMOTE')\n",
    "bar2 = ax.bar([p + bar_width for p in x], after_counts, bar_width, label='After SMOTE')\n",
    "\n",
    "# Adicionar legendas e títulos\n",
    "ax.set_xlabel('Classes')\n",
    "ax.set_ylabel('Counts')\n",
    "ax.set_title('Counts antes e depois SMOTE')\n",
    "ax.set_xticks([p + bar_width / 2 for p in x])\n",
    "ax.set_xticklabels(labels)\n",
    "ax.legend()\n",
    "\n",
    "# Mostrar o gráfico\n",
    "plt.show()\n"
   ]
  },
  {
   "cell_type": "markdown",
   "metadata": {},
   "source": [
    "## Random Forest"
   ]
  },
  {
   "cell_type": "markdown",
   "metadata": {},
   "source": [
    "### COM SMOTE"
   ]
  },
  {
   "cell_type": "code",
   "execution_count": 79,
   "metadata": {},
   "outputs": [
    {
     "name": "stdout",
     "output_type": "stream",
     "text": [
      "              precision    recall  f1-score   support\n",
      "\n",
      "           0       0.73      0.76      0.74     47465\n",
      "           1       0.44      0.33      0.37     11630\n",
      "           2       0.65      0.69      0.67     44853\n",
      "           3       0.43      0.37      0.40     15132\n",
      "           4       0.44      0.31      0.37      3980\n",
      "           5       0.75      0.85      0.80      7341\n",
      "\n",
      "    accuracy                           0.64    130401\n",
      "   macro avg       0.57      0.55      0.56    130401\n",
      "weighted avg       0.63      0.64      0.64    130401\n",
      "\n"
     ]
    }
   ],
   "source": [
    "from sklearn.ensemble import RandomForestClassifier\n",
    "Random_Forest = RandomForestClassifier(n_estimators=40, criterion='entropy', random_state = 0)\n",
    "Random_Forest.fit(smote_X_train, smote_y_train)\n",
    "predict = Random_Forest.predict(X_test)\n",
    "print(classification_report(y_test, predict))"
   ]
  },
  {
   "cell_type": "code",
   "execution_count": 82,
   "metadata": {},
   "outputs": [
    {
     "data": {
      "text/plain": [
       "0.6439367796259231"
      ]
     },
     "execution_count": 82,
     "metadata": {},
     "output_type": "execute_result"
    }
   ],
   "source": [
    "accuracy_score(y_test, predict)"
   ]
  },
  {
   "cell_type": "markdown",
   "metadata": {},
   "source": [
    "### SEM SMOTE"
   ]
  },
  {
   "cell_type": "code",
   "execution_count": 83,
   "metadata": {},
   "outputs": [
    {
     "name": "stdout",
     "output_type": "stream",
     "text": [
      "              precision    recall  f1-score   support\n",
      "\n",
      "           0       0.72      0.79      0.75     47465\n",
      "           1       0.52      0.27      0.35     11630\n",
      "           2       0.63      0.75      0.68     44853\n",
      "           3       0.47      0.32      0.38     15132\n",
      "           4       0.61      0.24      0.34      3980\n",
      "           5       0.80      0.81      0.81      7341\n",
      "\n",
      "    accuracy                           0.66    130401\n",
      "   macro avg       0.63      0.53      0.55    130401\n",
      "weighted avg       0.64      0.66      0.64    130401\n",
      "\n"
     ]
    }
   ],
   "source": [
    "from sklearn.ensemble import RandomForestClassifier\n",
    "Random_Forest = RandomForestClassifier(n_estimators=40, criterion='entropy', random_state = 0)\n",
    "Random_Forest.fit(X_train, y_train)\n",
    "predict = Random_Forest.predict(X_test)\n",
    "print(classification_report(y_test, predict))"
   ]
  },
  {
   "cell_type": "code",
   "execution_count": 84,
   "metadata": {},
   "outputs": [
    {
     "data": {
      "text/plain": [
       "0.6567510985345204"
      ]
     },
     "execution_count": 84,
     "metadata": {},
     "output_type": "execute_result"
    }
   ],
   "source": [
    "accuracy_score(y_test, predict)"
   ]
  },
  {
   "cell_type": "markdown",
   "metadata": {},
   "source": [
    "## MLP classifier"
   ]
  },
  {
   "cell_type": "markdown",
   "metadata": {},
   "source": [
    "### COM SMOTE"
   ]
  },
  {
   "cell_type": "code",
   "execution_count": 85,
   "metadata": {},
   "outputs": [
    {
     "name": "stdout",
     "output_type": "stream",
     "text": [
      "Iteration 1, loss = 1.39798973\n",
      "Iteration 2, loss = 1.34087492\n",
      "Iteration 3, loss = 1.31550883\n",
      "Iteration 4, loss = 1.30323118\n",
      "Iteration 5, loss = 1.29653681\n",
      "Iteration 6, loss = 1.29090301\n",
      "Iteration 7, loss = 1.28616398\n",
      "Iteration 8, loss = 1.28244784\n",
      "Iteration 9, loss = 1.27879732\n",
      "Iteration 10, loss = 1.27489771\n",
      "Iteration 11, loss = 1.27197096\n",
      "Iteration 12, loss = 1.27000130\n",
      "Iteration 13, loss = 1.26853132\n",
      "Iteration 14, loss = 1.26755742\n",
      "Iteration 15, loss = 1.26683147\n",
      "Iteration 16, loss = 1.26581610\n",
      "Iteration 17, loss = 1.26467488\n",
      "Iteration 18, loss = 1.26385710\n",
      "Iteration 19, loss = 1.26331336\n",
      "Iteration 20, loss = 1.26298373\n",
      "Iteration 21, loss = 1.26257426\n",
      "Iteration 22, loss = 1.26211253\n",
      "Iteration 23, loss = 1.26166507\n",
      "Iteration 24, loss = 1.26108074\n",
      "Iteration 25, loss = 1.26054104\n",
      "Iteration 26, loss = 1.26010797\n",
      "Iteration 27, loss = 1.25958537\n",
      "Iteration 28, loss = 1.25895286\n",
      "Iteration 29, loss = 1.25851225\n",
      "Iteration 30, loss = 1.25795678\n",
      "Iteration 31, loss = 1.25741083\n",
      "Iteration 32, loss = 1.25675252\n",
      "Iteration 33, loss = 1.25605711\n",
      "Iteration 34, loss = 1.25569730\n",
      "Iteration 35, loss = 1.25522673\n",
      "Iteration 36, loss = 1.25461566\n",
      "Iteration 37, loss = 1.25410211\n",
      "Iteration 38, loss = 1.25377965\n",
      "Iteration 39, loss = 1.25297442\n",
      "Iteration 40, loss = 1.25249691\n",
      "Iteration 41, loss = 1.25186513\n",
      "Iteration 42, loss = 1.25124081\n",
      "Iteration 43, loss = 1.25097728\n",
      "Iteration 44, loss = 1.25045217\n",
      "Iteration 45, loss = 1.25029912\n",
      "Iteration 46, loss = 1.24982375\n",
      "Iteration 47, loss = 1.24949144\n",
      "Iteration 48, loss = 1.24927946\n",
      "Iteration 49, loss = 1.24900751\n",
      "Iteration 50, loss = 1.24882512\n",
      "Iteration 51, loss = 1.24866350\n",
      "Iteration 52, loss = 1.24836138\n",
      "Iteration 53, loss = 1.24820932\n",
      "Iteration 54, loss = 1.24799241\n",
      "Iteration 55, loss = 1.24771955\n",
      "Iteration 56, loss = 1.24762476\n",
      "Iteration 57, loss = 1.24744101\n",
      "Iteration 58, loss = 1.24719215\n",
      "Iteration 59, loss = 1.24692075\n",
      "Iteration 60, loss = 1.24669172\n",
      "Iteration 61, loss = 1.24640430\n",
      "Iteration 62, loss = 1.24614766\n",
      "Iteration 63, loss = 1.24595789\n",
      "Iteration 64, loss = 1.24598708\n",
      "Iteration 65, loss = 1.24582842\n",
      "Iteration 66, loss = 1.24559594\n",
      "Iteration 67, loss = 1.24535260\n",
      "Iteration 68, loss = 1.24524384\n",
      "Iteration 69, loss = 1.24521392\n",
      "Iteration 70, loss = 1.24513283\n",
      "Iteration 71, loss = 1.24495479\n",
      "Iteration 72, loss = 1.24494381\n",
      "Iteration 73, loss = 1.24477773\n",
      "Iteration 74, loss = 1.24470228\n",
      "Iteration 75, loss = 1.24453215\n",
      "Iteration 76, loss = 1.24447695\n",
      "Iteration 77, loss = 1.24431926\n",
      "Iteration 78, loss = 1.24430768\n",
      "Iteration 79, loss = 1.24428611\n",
      "Iteration 80, loss = 1.24432896\n",
      "Iteration 81, loss = 1.24411268\n",
      "Iteration 82, loss = 1.24420041\n",
      "Iteration 83, loss = 1.24407514\n",
      "Iteration 84, loss = 1.24402536\n",
      "Iteration 85, loss = 1.24390488\n",
      "Iteration 86, loss = 1.24393763\n",
      "Iteration 87, loss = 1.24386268\n",
      "Iteration 88, loss = 1.24382358\n",
      "Iteration 89, loss = 1.24364962\n",
      "Iteration 90, loss = 1.24368082\n",
      "Iteration 91, loss = 1.24356486\n",
      "Iteration 92, loss = 1.24344660\n",
      "Iteration 93, loss = 1.24346697\n",
      "Iteration 94, loss = 1.24335081\n",
      "Iteration 95, loss = 1.24324590\n",
      "Iteration 96, loss = 1.24329047\n",
      "Iteration 97, loss = 1.24322455\n",
      "Iteration 98, loss = 1.24307046\n",
      "Iteration 99, loss = 1.24310653\n",
      "Iteration 100, loss = 1.24317466\n",
      "Iteration 101, loss = 1.24293729\n",
      "Iteration 102, loss = 1.24291625\n",
      "Iteration 103, loss = 1.24286342\n",
      "Iteration 104, loss = 1.24295501\n",
      "Iteration 105, loss = 1.24290225\n",
      "Iteration 106, loss = 1.24274546\n",
      "Iteration 107, loss = 1.24280853\n",
      "Iteration 108, loss = 1.24273208\n",
      "Iteration 109, loss = 1.24271366\n",
      "Iteration 110, loss = 1.24284668\n",
      "Iteration 111, loss = 1.24258420\n",
      "Iteration 112, loss = 1.24264847\n",
      "Iteration 113, loss = 1.24268447\n",
      "Iteration 114, loss = 1.24253724\n",
      "Iteration 115, loss = 1.24264971\n",
      "Iteration 116, loss = 1.24241601\n",
      "Iteration 117, loss = 1.24253037\n",
      "Iteration 118, loss = 1.24242359\n",
      "Iteration 119, loss = 1.24251591\n",
      "Iteration 120, loss = 1.24241241\n",
      "Iteration 121, loss = 1.24248339\n",
      "Iteration 122, loss = 1.24237964\n",
      "Iteration 123, loss = 1.24238927\n",
      "Iteration 124, loss = 1.24228119\n",
      "Iteration 125, loss = 1.24225258\n",
      "Iteration 126, loss = 1.24220811\n",
      "Iteration 127, loss = 1.24221200\n",
      "Iteration 128, loss = 1.24218922\n",
      "Iteration 129, loss = 1.24212456\n",
      "Iteration 130, loss = 1.24212057\n",
      "Iteration 131, loss = 1.24208915\n",
      "Iteration 132, loss = 1.24211332\n",
      "Iteration 133, loss = 1.24198379\n",
      "Iteration 134, loss = 1.24191907\n",
      "Iteration 135, loss = 1.24185564\n",
      "Iteration 136, loss = 1.24182124\n",
      "Iteration 137, loss = 1.24184398\n",
      "Iteration 138, loss = 1.24175135\n",
      "Iteration 139, loss = 1.24177617\n",
      "Iteration 140, loss = 1.24178438\n",
      "Iteration 141, loss = 1.24176100\n",
      "Iteration 142, loss = 1.24173206\n",
      "Iteration 143, loss = 1.24175614\n",
      "Iteration 144, loss = 1.24159750\n",
      "Iteration 145, loss = 1.24158103\n",
      "Iteration 146, loss = 1.24164996\n",
      "Iteration 147, loss = 1.24175038\n",
      "Iteration 148, loss = 1.24168217\n",
      "Iteration 149, loss = 1.24159063\n",
      "Iteration 150, loss = 1.24163719\n",
      "Iteration 151, loss = 1.24154038\n",
      "Iteration 152, loss = 1.24155734\n",
      "Iteration 153, loss = 1.24157231\n",
      "Iteration 154, loss = 1.24148196\n",
      "Iteration 155, loss = 1.24146207\n",
      "Iteration 156, loss = 1.24155761\n",
      "Iteration 157, loss = 1.24139073\n",
      "Iteration 158, loss = 1.24151449\n",
      "Iteration 159, loss = 1.24140172\n",
      "Iteration 160, loss = 1.24154840\n",
      "Iteration 161, loss = 1.24140857\n",
      "Iteration 162, loss = 1.24139704\n",
      "Iteration 163, loss = 1.24137739\n",
      "Iteration 164, loss = 1.24140983\n",
      "Iteration 165, loss = 1.24137413\n",
      "Iteration 166, loss = 1.24143548\n",
      "Iteration 167, loss = 1.24126694\n",
      "Iteration 168, loss = 1.24130172\n",
      "Iteration 169, loss = 1.24132822\n",
      "Iteration 170, loss = 1.24139087\n",
      "Iteration 171, loss = 1.24143575\n",
      "Iteration 172, loss = 1.24135167\n",
      "Iteration 173, loss = 1.24129179\n",
      "Iteration 174, loss = 1.24135856\n",
      "Iteration 175, loss = 1.24130727\n",
      "Iteration 176, loss = 1.24136474\n",
      "Iteration 177, loss = 1.24125327\n",
      "Iteration 178, loss = 1.24135032\n",
      "Iteration 179, loss = 1.24118596\n",
      "Iteration 180, loss = 1.24111768\n",
      "Iteration 181, loss = 1.24137338\n",
      "Iteration 182, loss = 1.24124033\n",
      "Iteration 183, loss = 1.24121708\n",
      "Iteration 184, loss = 1.24118104\n",
      "Iteration 185, loss = 1.24132698\n",
      "Iteration 186, loss = 1.24115334\n",
      "Iteration 187, loss = 1.24120768\n",
      "Iteration 188, loss = 1.24112263\n",
      "Iteration 189, loss = 1.24117764\n",
      "Iteration 190, loss = 1.24110314\n",
      "Iteration 191, loss = 1.24119028\n",
      "Iteration 192, loss = 1.24115620\n",
      "Iteration 193, loss = 1.24101545\n",
      "Iteration 194, loss = 1.24115205\n",
      "Iteration 195, loss = 1.24117850\n",
      "Iteration 196, loss = 1.24116015\n",
      "Iteration 197, loss = 1.24105071\n",
      "Iteration 198, loss = 1.24115250\n",
      "Iteration 199, loss = 1.24111799\n",
      "Iteration 200, loss = 1.24100130\n",
      "Iteration 201, loss = 1.24099405\n",
      "Iteration 202, loss = 1.24097952\n",
      "Iteration 203, loss = 1.24103076\n",
      "Iteration 204, loss = 1.24083289\n",
      "Iteration 205, loss = 1.24093112\n",
      "Iteration 206, loss = 1.24093023\n",
      "Iteration 207, loss = 1.24093398\n",
      "Iteration 208, loss = 1.24103238\n",
      "Iteration 209, loss = 1.24091077\n",
      "Iteration 210, loss = 1.24088245\n",
      "Iteration 211, loss = 1.24092936\n",
      "Iteration 212, loss = 1.24077977\n",
      "Iteration 213, loss = 1.24089849\n",
      "Iteration 214, loss = 1.24090286\n",
      "Iteration 215, loss = 1.24078735\n",
      "Iteration 216, loss = 1.24077829\n",
      "Iteration 217, loss = 1.24080625\n",
      "Iteration 218, loss = 1.24083132\n",
      "Iteration 219, loss = 1.24086842\n",
      "Iteration 220, loss = 1.24082790\n",
      "Iteration 221, loss = 1.24081865\n",
      "Iteration 222, loss = 1.24084190\n",
      "Iteration 223, loss = 1.24080487\n",
      "Training loss did not improve more than tol=0.000010 for 10 consecutive epochs. Stopping.\n",
      "              precision    recall  f1-score   support\n",
      "\n",
      "           0       0.73      0.55      0.62     47465\n",
      "           1       0.20      0.39      0.27     11630\n",
      "           2       0.60      0.41      0.49     44853\n",
      "           3       0.34      0.37      0.35     15132\n",
      "           4       0.13      0.44      0.20      3980\n",
      "           5       0.55      0.86      0.68      7341\n",
      "\n",
      "    accuracy                           0.48    130401\n",
      "   macro avg       0.43      0.50      0.43    130401\n",
      "weighted avg       0.56      0.48      0.50    130401\n",
      "\n"
     ]
    }
   ],
   "source": [
    "from sklearn.neural_network import MLPClassifier\n",
    "MLP = MLPClassifier(max_iter=1500, verbose=True, tol=0.0000100,\n",
    "                                   solver = 'adam', activation = 'relu',\n",
    "                                   hidden_layer_sizes = (20,20))\n",
    "MLP.fit(smote_X_train, smote_y_train)\n",
    "predict =  MLP.predict(X_test)\n",
    "print(classification_report(y_test,predict))"
   ]
  },
  {
   "cell_type": "code",
   "execution_count": 86,
   "metadata": {},
   "outputs": [
    {
     "data": {
      "text/plain": [
       "0.4792064478033144"
      ]
     },
     "execution_count": 86,
     "metadata": {},
     "output_type": "execute_result"
    }
   ],
   "source": [
    "accuracy_score(y_test, predict)"
   ]
  },
  {
   "cell_type": "markdown",
   "metadata": {},
   "source": [
    "### SEM SMOTE"
   ]
  },
  {
   "cell_type": "code",
   "execution_count": null,
   "metadata": {},
   "outputs": [],
   "source": [
    "from sklearn.neural_network import MLPClassifier\n",
    "MLP = MLPClassifier(max_iter=1500, verbose=True, tol=0.0000100,\n",
    "                                   solver = 'adam', activation = 'relu',\n",
    "                                   hidden_layer_sizes = (20,20))\n",
    "MLP.fit(X_train, y_train)\n",
    "predict =  MLP.predict(X_test)\n",
    "print(classification_report(y_test,predict))"
   ]
  },
  {
   "cell_type": "code",
   "execution_count": null,
   "metadata": {},
   "outputs": [],
   "source": [
    "accuracy_score(y_test, predict)"
   ]
  },
  {
   "cell_type": "markdown",
   "metadata": {},
   "source": [
    "## KNeighborsClassifier"
   ]
  },
  {
   "cell_type": "markdown",
   "metadata": {},
   "source": [
    "### Com SMOTE"
   ]
  },
  {
   "cell_type": "code",
   "execution_count": 87,
   "metadata": {},
   "outputs": [
    {
     "name": "stdout",
     "output_type": "stream",
     "text": [
      "              precision    recall  f1-score   support\n",
      "\n",
      "           0       0.68      0.57      0.62     47465\n",
      "           1       0.19      0.37      0.25     11630\n",
      "           2       0.59      0.39      0.47     44853\n",
      "           3       0.27      0.35      0.31     15132\n",
      "           4       0.12      0.28      0.17      3980\n",
      "           5       0.60      0.75      0.67      7341\n",
      "\n",
      "    accuracy                           0.47    130401\n",
      "   macro avg       0.41      0.45      0.41    130401\n",
      "weighted avg       0.54      0.47      0.49    130401\n",
      "\n"
     ]
    }
   ],
   "source": [
    "from sklearn.neighbors import KNeighborsClassifier\n",
    "KN = KNeighborsClassifier()\n",
    "KN.fit(smote_X_train, smote_y_train)\n",
    "predict = KN.predict(X_test)\n",
    "print(classification_report(y_test, predict))"
   ]
  },
  {
   "cell_type": "code",
   "execution_count": 88,
   "metadata": {},
   "outputs": [
    {
     "data": {
      "text/plain": [
       "0.4651114638691421"
      ]
     },
     "execution_count": 88,
     "metadata": {},
     "output_type": "execute_result"
    }
   ],
   "source": [
    "accuracy_score(y_test, predict)"
   ]
  },
  {
   "cell_type": "markdown",
   "metadata": {},
   "source": [
    "### SEM SMOTE"
   ]
  },
  {
   "cell_type": "code",
   "execution_count": 89,
   "metadata": {},
   "outputs": [
    {
     "name": "stdout",
     "output_type": "stream",
     "text": [
      "              precision    recall  f1-score   support\n",
      "\n",
      "           0       0.60      0.73      0.66     47465\n",
      "           1       0.26      0.18      0.22     11630\n",
      "           2       0.55      0.59      0.57     44853\n",
      "           3       0.36      0.20      0.26     15132\n",
      "           4       0.29      0.08      0.13      3980\n",
      "           5       0.78      0.65      0.71      7341\n",
      "\n",
      "    accuracy                           0.55    130401\n",
      "   macro avg       0.47      0.41      0.42    130401\n",
      "weighted avg       0.52      0.55      0.53    130401\n",
      "\n"
     ]
    }
   ],
   "source": [
    "from sklearn.neighbors import KNeighborsClassifier\n",
    "KN = KNeighborsClassifier()\n",
    "KN.fit(X_train, y_train)\n",
    "predict = KN.predict(X_test)\n",
    "print(classification_report(y_test, predict))"
   ]
  },
  {
   "cell_type": "code",
   "execution_count": 90,
   "metadata": {},
   "outputs": [
    {
     "data": {
      "text/plain": [
       "0.549581674987155"
      ]
     },
     "execution_count": 90,
     "metadata": {},
     "output_type": "execute_result"
    }
   ],
   "source": [
    "accuracy_score(y_test, predict)"
   ]
  },
  {
   "cell_type": "markdown",
   "metadata": {},
   "source": [
    "## Deep Learning"
   ]
  },
  {
   "cell_type": "code",
   "execution_count": 45,
   "metadata": {},
   "outputs": [
    {
     "name": "stderr",
     "output_type": "stream",
     "text": [
      "c:\\Users\\Vini\\anaconda3\\envs\\my_IC\\Lib\\site-packages\\keras\\src\\layers\\core\\dense.py:87: UserWarning: Do not pass an `input_shape`/`input_dim` argument to a layer. When using Sequential models, prefer using an `Input(shape)` object as the first layer in the model instead.\n",
      "  super().__init__(activity_regularizer=activity_regularizer, **kwargs)\n"
     ]
    }
   ],
   "source": [
    "model = tf.keras.Sequential([\n",
    "    tf.keras.layers.Dense(32, input_shape=(15,), activation='relu'),\n",
    "    tf.keras.layers.Dense(64, activation='relu'),\n",
    "    tf.keras.layers.Dense(6, activation='softmax')\n",
    "])\n",
    "\n",
    "model2 = tf.keras.Sequential([\n",
    "    tf.keras.layers.Dense(32, input_shape=(15,), activation='relu'),\n",
    "    tf.keras.layers.Dense(64, activation='relu'),\n",
    "    tf.keras.layers.Dense(6, activation='softmax')\n",
    "])\n",
    "\n",
    "\n"
   ]
  },
  {
   "cell_type": "code",
   "execution_count": 46,
   "metadata": {},
   "outputs": [],
   "source": [
    "model.compile(optimizer=tf.keras.optimizers.Adam(),\n",
    "              loss=tf.keras.losses.SparseCategoricalCrossentropy(),\n",
    "              metrics = ['accuracy'])\n",
    "\n",
    "model2.compile(optimizer=tf.keras.optimizers.Adam(),\n",
    "              loss=tf.keras.losses.SparseCategoricalCrossentropy(),\n",
    "              metrics = ['accuracy'])\n"
   ]
  },
  {
   "cell_type": "markdown",
   "metadata": {},
   "source": [
    "### Treino e validação"
   ]
  },
  {
   "cell_type": "code",
   "execution_count": 47,
   "metadata": {},
   "outputs": [],
   "source": [
    "BATCH_SIZE = 4\n",
    "EPOCHS = 10"
   ]
  },
  {
   "cell_type": "code",
   "execution_count": 49,
   "metadata": {},
   "outputs": [
    {
     "name": "stdout",
     "output_type": "stream",
     "text": [
      "Epoch 1/10\n",
      "\u001b[1m641385/641385\u001b[0m \u001b[32m━━━━━━━━━━━━━━━━━━━━\u001b[0m\u001b[37m\u001b[0m \u001b[1m619s\u001b[0m 964us/step - accuracy: 0.4639 - loss: 1.3260\n",
      "Epoch 2/10\n",
      "\u001b[1m641385/641385\u001b[0m \u001b[32m━━━━━━━━━━━━━━━━━━━━\u001b[0m\u001b[37m\u001b[0m \u001b[1m614s\u001b[0m 957us/step - accuracy: 0.5205 - loss: 1.2209\n",
      "Epoch 3/10\n",
      "\u001b[1m641385/641385\u001b[0m \u001b[32m━━━━━━━━━━━━━━━━━━━━\u001b[0m\u001b[37m\u001b[0m \u001b[1m614s\u001b[0m 957us/step - accuracy: 0.5282 - loss: 1.2077\n",
      "Epoch 4/10\n",
      "\u001b[1m641385/641385\u001b[0m \u001b[32m━━━━━━━━━━━━━━━━━━━━\u001b[0m\u001b[37m\u001b[0m \u001b[1m616s\u001b[0m 960us/step - accuracy: 0.5295 - loss: 1.2051\n",
      "Epoch 5/10\n",
      "\u001b[1m641385/641385\u001b[0m \u001b[32m━━━━━━━━━━━━━━━━━━━━\u001b[0m\u001b[37m\u001b[0m \u001b[1m616s\u001b[0m 960us/step - accuracy: 0.5317 - loss: 1.2011\n",
      "Epoch 6/10\n",
      "\u001b[1m641385/641385\u001b[0m \u001b[32m━━━━━━━━━━━━━━━━━━━━\u001b[0m\u001b[37m\u001b[0m \u001b[1m615s\u001b[0m 959us/step - accuracy: 0.5324 - loss: 1.1984\n",
      "Epoch 7/10\n",
      "\u001b[1m641385/641385\u001b[0m \u001b[32m━━━━━━━━━━━━━━━━━━━━\u001b[0m\u001b[37m\u001b[0m \u001b[1m623s\u001b[0m 972us/step - accuracy: 0.5315 - loss: 1.1996\n",
      "Epoch 8/10\n",
      "\u001b[1m641385/641385\u001b[0m \u001b[32m━━━━━━━━━━━━━━━━━━━━\u001b[0m\u001b[37m\u001b[0m \u001b[1m613s\u001b[0m 956us/step - accuracy: 0.5323 - loss: 1.1985\n",
      "Epoch 9/10\n",
      "\u001b[1m641385/641385\u001b[0m \u001b[32m━━━━━━━━━━━━━━━━━━━━\u001b[0m\u001b[37m\u001b[0m \u001b[1m620s\u001b[0m 967us/step - accuracy: 0.5320 - loss: 1.1994\n",
      "Epoch 10/10\n",
      "\u001b[1m230634/641385\u001b[0m \u001b[32m━━━━━━━\u001b[0m\u001b[37m━━━━━━━━━━━━━\u001b[0m \u001b[1m6:32\u001b[0m 956us/step - accuracy: 0.5313 - loss: 1.1991"
     ]
    },
    {
     "ename": "KeyboardInterrupt",
     "evalue": "",
     "output_type": "error",
     "traceback": [
      "\u001b[1;31m---------------------------------------------------------------------------\u001b[0m",
      "\u001b[1;31mKeyboardInterrupt\u001b[0m                         Traceback (most recent call last)",
      "Cell \u001b[1;32mIn[49], line 1\u001b[0m\n\u001b[1;32m----> 1\u001b[0m \u001b[43mmodel\u001b[49m\u001b[38;5;241;43m.\u001b[39;49m\u001b[43mfit\u001b[49m\u001b[43m(\u001b[49m\u001b[43msmote_X_train\u001b[49m\u001b[43m,\u001b[49m\u001b[43m \u001b[49m\u001b[43msmote_y_train\u001b[49m\u001b[43m,\u001b[49m\u001b[43m \u001b[49m\u001b[43mbatch_size\u001b[49m\u001b[38;5;241;43m=\u001b[39;49m\u001b[43mBATCH_SIZE\u001b[49m\u001b[43m,\u001b[49m\u001b[43m \u001b[49m\u001b[43mepochs\u001b[49m\u001b[38;5;241;43m=\u001b[39;49m\u001b[43mEPOCHS\u001b[49m\u001b[43m)\u001b[49m\n",
      "File \u001b[1;32mc:\\Users\\Vini\\anaconda3\\envs\\my_IC\\Lib\\site-packages\\keras\\src\\utils\\traceback_utils.py:117\u001b[0m, in \u001b[0;36mfilter_traceback.<locals>.error_handler\u001b[1;34m(*args, **kwargs)\u001b[0m\n\u001b[0;32m    115\u001b[0m filtered_tb \u001b[38;5;241m=\u001b[39m \u001b[38;5;28;01mNone\u001b[39;00m\n\u001b[0;32m    116\u001b[0m \u001b[38;5;28;01mtry\u001b[39;00m:\n\u001b[1;32m--> 117\u001b[0m     \u001b[38;5;28;01mreturn\u001b[39;00m \u001b[43mfn\u001b[49m\u001b[43m(\u001b[49m\u001b[38;5;241;43m*\u001b[39;49m\u001b[43margs\u001b[49m\u001b[43m,\u001b[49m\u001b[43m \u001b[49m\u001b[38;5;241;43m*\u001b[39;49m\u001b[38;5;241;43m*\u001b[39;49m\u001b[43mkwargs\u001b[49m\u001b[43m)\u001b[49m\n\u001b[0;32m    118\u001b[0m \u001b[38;5;28;01mexcept\u001b[39;00m \u001b[38;5;167;01mException\u001b[39;00m \u001b[38;5;28;01mas\u001b[39;00m e:\n\u001b[0;32m    119\u001b[0m     filtered_tb \u001b[38;5;241m=\u001b[39m _process_traceback_frames(e\u001b[38;5;241m.\u001b[39m__traceback__)\n",
      "File \u001b[1;32mc:\\Users\\Vini\\anaconda3\\envs\\my_IC\\Lib\\site-packages\\keras\\src\\backend\\tensorflow\\trainer.py:318\u001b[0m, in \u001b[0;36mTensorFlowTrainer.fit\u001b[1;34m(self, x, y, batch_size, epochs, verbose, callbacks, validation_split, validation_data, shuffle, class_weight, sample_weight, initial_epoch, steps_per_epoch, validation_steps, validation_batch_size, validation_freq)\u001b[0m\n\u001b[0;32m    316\u001b[0m \u001b[38;5;28;01mfor\u001b[39;00m step, iterator \u001b[38;5;129;01min\u001b[39;00m epoch_iterator\u001b[38;5;241m.\u001b[39menumerate_epoch():\n\u001b[0;32m    317\u001b[0m     callbacks\u001b[38;5;241m.\u001b[39mon_train_batch_begin(step)\n\u001b[1;32m--> 318\u001b[0m     logs \u001b[38;5;241m=\u001b[39m \u001b[38;5;28;43mself\u001b[39;49m\u001b[38;5;241;43m.\u001b[39;49m\u001b[43mtrain_function\u001b[49m\u001b[43m(\u001b[49m\u001b[43miterator\u001b[49m\u001b[43m)\u001b[49m\n\u001b[0;32m    319\u001b[0m     logs \u001b[38;5;241m=\u001b[39m \u001b[38;5;28mself\u001b[39m\u001b[38;5;241m.\u001b[39m_pythonify_logs(logs)\n\u001b[0;32m    320\u001b[0m     callbacks\u001b[38;5;241m.\u001b[39mon_train_batch_end(step, logs)\n",
      "File \u001b[1;32mc:\\Users\\Vini\\anaconda3\\envs\\my_IC\\Lib\\site-packages\\tensorflow\\python\\util\\traceback_utils.py:150\u001b[0m, in \u001b[0;36mfilter_traceback.<locals>.error_handler\u001b[1;34m(*args, **kwargs)\u001b[0m\n\u001b[0;32m    148\u001b[0m filtered_tb \u001b[38;5;241m=\u001b[39m \u001b[38;5;28;01mNone\u001b[39;00m\n\u001b[0;32m    149\u001b[0m \u001b[38;5;28;01mtry\u001b[39;00m:\n\u001b[1;32m--> 150\u001b[0m   \u001b[38;5;28;01mreturn\u001b[39;00m \u001b[43mfn\u001b[49m\u001b[43m(\u001b[49m\u001b[38;5;241;43m*\u001b[39;49m\u001b[43margs\u001b[49m\u001b[43m,\u001b[49m\u001b[43m \u001b[49m\u001b[38;5;241;43m*\u001b[39;49m\u001b[38;5;241;43m*\u001b[39;49m\u001b[43mkwargs\u001b[49m\u001b[43m)\u001b[49m\n\u001b[0;32m    151\u001b[0m \u001b[38;5;28;01mexcept\u001b[39;00m \u001b[38;5;167;01mException\u001b[39;00m \u001b[38;5;28;01mas\u001b[39;00m e:\n\u001b[0;32m    152\u001b[0m   filtered_tb \u001b[38;5;241m=\u001b[39m _process_traceback_frames(e\u001b[38;5;241m.\u001b[39m__traceback__)\n",
      "File \u001b[1;32mc:\\Users\\Vini\\anaconda3\\envs\\my_IC\\Lib\\site-packages\\tensorflow\\python\\eager\\polymorphic_function\\polymorphic_function.py:833\u001b[0m, in \u001b[0;36mFunction.__call__\u001b[1;34m(self, *args, **kwds)\u001b[0m\n\u001b[0;32m    830\u001b[0m compiler \u001b[38;5;241m=\u001b[39m \u001b[38;5;124m\"\u001b[39m\u001b[38;5;124mxla\u001b[39m\u001b[38;5;124m\"\u001b[39m \u001b[38;5;28;01mif\u001b[39;00m \u001b[38;5;28mself\u001b[39m\u001b[38;5;241m.\u001b[39m_jit_compile \u001b[38;5;28;01melse\u001b[39;00m \u001b[38;5;124m\"\u001b[39m\u001b[38;5;124mnonXla\u001b[39m\u001b[38;5;124m\"\u001b[39m\n\u001b[0;32m    832\u001b[0m \u001b[38;5;28;01mwith\u001b[39;00m OptionalXlaContext(\u001b[38;5;28mself\u001b[39m\u001b[38;5;241m.\u001b[39m_jit_compile):\n\u001b[1;32m--> 833\u001b[0m   result \u001b[38;5;241m=\u001b[39m \u001b[38;5;28;43mself\u001b[39;49m\u001b[38;5;241;43m.\u001b[39;49m\u001b[43m_call\u001b[49m\u001b[43m(\u001b[49m\u001b[38;5;241;43m*\u001b[39;49m\u001b[43margs\u001b[49m\u001b[43m,\u001b[49m\u001b[43m \u001b[49m\u001b[38;5;241;43m*\u001b[39;49m\u001b[38;5;241;43m*\u001b[39;49m\u001b[43mkwds\u001b[49m\u001b[43m)\u001b[49m\n\u001b[0;32m    835\u001b[0m new_tracing_count \u001b[38;5;241m=\u001b[39m \u001b[38;5;28mself\u001b[39m\u001b[38;5;241m.\u001b[39mexperimental_get_tracing_count()\n\u001b[0;32m    836\u001b[0m without_tracing \u001b[38;5;241m=\u001b[39m (tracing_count \u001b[38;5;241m==\u001b[39m new_tracing_count)\n",
      "File \u001b[1;32mc:\\Users\\Vini\\anaconda3\\envs\\my_IC\\Lib\\site-packages\\tensorflow\\python\\eager\\polymorphic_function\\polymorphic_function.py:878\u001b[0m, in \u001b[0;36mFunction._call\u001b[1;34m(self, *args, **kwds)\u001b[0m\n\u001b[0;32m    875\u001b[0m \u001b[38;5;28mself\u001b[39m\u001b[38;5;241m.\u001b[39m_lock\u001b[38;5;241m.\u001b[39mrelease()\n\u001b[0;32m    876\u001b[0m \u001b[38;5;66;03m# In this case we have not created variables on the first call. So we can\u001b[39;00m\n\u001b[0;32m    877\u001b[0m \u001b[38;5;66;03m# run the first trace but we should fail if variables are created.\u001b[39;00m\n\u001b[1;32m--> 878\u001b[0m results \u001b[38;5;241m=\u001b[39m \u001b[43mtracing_compilation\u001b[49m\u001b[38;5;241;43m.\u001b[39;49m\u001b[43mcall_function\u001b[49m\u001b[43m(\u001b[49m\n\u001b[0;32m    879\u001b[0m \u001b[43m    \u001b[49m\u001b[43margs\u001b[49m\u001b[43m,\u001b[49m\u001b[43m \u001b[49m\u001b[43mkwds\u001b[49m\u001b[43m,\u001b[49m\u001b[43m \u001b[49m\u001b[38;5;28;43mself\u001b[39;49m\u001b[38;5;241;43m.\u001b[39;49m\u001b[43m_variable_creation_config\u001b[49m\n\u001b[0;32m    880\u001b[0m \u001b[43m\u001b[49m\u001b[43m)\u001b[49m\n\u001b[0;32m    881\u001b[0m \u001b[38;5;28;01mif\u001b[39;00m \u001b[38;5;28mself\u001b[39m\u001b[38;5;241m.\u001b[39m_created_variables:\n\u001b[0;32m    882\u001b[0m   \u001b[38;5;28;01mraise\u001b[39;00m \u001b[38;5;167;01mValueError\u001b[39;00m(\u001b[38;5;124m\"\u001b[39m\u001b[38;5;124mCreating variables on a non-first call to a function\u001b[39m\u001b[38;5;124m\"\u001b[39m\n\u001b[0;32m    883\u001b[0m                    \u001b[38;5;124m\"\u001b[39m\u001b[38;5;124m decorated with tf.function.\u001b[39m\u001b[38;5;124m\"\u001b[39m)\n",
      "File \u001b[1;32mc:\\Users\\Vini\\anaconda3\\envs\\my_IC\\Lib\\site-packages\\tensorflow\\python\\eager\\polymorphic_function\\tracing_compilation.py:139\u001b[0m, in \u001b[0;36mcall_function\u001b[1;34m(args, kwargs, tracing_options)\u001b[0m\n\u001b[0;32m    137\u001b[0m bound_args \u001b[38;5;241m=\u001b[39m function\u001b[38;5;241m.\u001b[39mfunction_type\u001b[38;5;241m.\u001b[39mbind(\u001b[38;5;241m*\u001b[39margs, \u001b[38;5;241m*\u001b[39m\u001b[38;5;241m*\u001b[39mkwargs)\n\u001b[0;32m    138\u001b[0m flat_inputs \u001b[38;5;241m=\u001b[39m function\u001b[38;5;241m.\u001b[39mfunction_type\u001b[38;5;241m.\u001b[39munpack_inputs(bound_args)\n\u001b[1;32m--> 139\u001b[0m \u001b[38;5;28;01mreturn\u001b[39;00m \u001b[43mfunction\u001b[49m\u001b[38;5;241;43m.\u001b[39;49m\u001b[43m_call_flat\u001b[49m\u001b[43m(\u001b[49m\u001b[43m  \u001b[49m\u001b[38;5;66;43;03m# pylint: disable=protected-access\u001b[39;49;00m\n\u001b[0;32m    140\u001b[0m \u001b[43m    \u001b[49m\u001b[43mflat_inputs\u001b[49m\u001b[43m,\u001b[49m\u001b[43m \u001b[49m\u001b[43mcaptured_inputs\u001b[49m\u001b[38;5;241;43m=\u001b[39;49m\u001b[43mfunction\u001b[49m\u001b[38;5;241;43m.\u001b[39;49m\u001b[43mcaptured_inputs\u001b[49m\n\u001b[0;32m    141\u001b[0m \u001b[43m\u001b[49m\u001b[43m)\u001b[49m\n",
      "File \u001b[1;32mc:\\Users\\Vini\\anaconda3\\envs\\my_IC\\Lib\\site-packages\\tensorflow\\python\\eager\\polymorphic_function\\concrete_function.py:1322\u001b[0m, in \u001b[0;36mConcreteFunction._call_flat\u001b[1;34m(self, tensor_inputs, captured_inputs)\u001b[0m\n\u001b[0;32m   1318\u001b[0m possible_gradient_type \u001b[38;5;241m=\u001b[39m gradients_util\u001b[38;5;241m.\u001b[39mPossibleTapeGradientTypes(args)\n\u001b[0;32m   1319\u001b[0m \u001b[38;5;28;01mif\u001b[39;00m (possible_gradient_type \u001b[38;5;241m==\u001b[39m gradients_util\u001b[38;5;241m.\u001b[39mPOSSIBLE_GRADIENT_TYPES_NONE\n\u001b[0;32m   1320\u001b[0m     \u001b[38;5;129;01mand\u001b[39;00m executing_eagerly):\n\u001b[0;32m   1321\u001b[0m   \u001b[38;5;66;03m# No tape is watching; skip to running the function.\u001b[39;00m\n\u001b[1;32m-> 1322\u001b[0m   \u001b[38;5;28;01mreturn\u001b[39;00m \u001b[38;5;28;43mself\u001b[39;49m\u001b[38;5;241;43m.\u001b[39;49m\u001b[43m_inference_function\u001b[49m\u001b[38;5;241;43m.\u001b[39;49m\u001b[43mcall_preflattened\u001b[49m\u001b[43m(\u001b[49m\u001b[43margs\u001b[49m\u001b[43m)\u001b[49m\n\u001b[0;32m   1323\u001b[0m forward_backward \u001b[38;5;241m=\u001b[39m \u001b[38;5;28mself\u001b[39m\u001b[38;5;241m.\u001b[39m_select_forward_and_backward_functions(\n\u001b[0;32m   1324\u001b[0m     args,\n\u001b[0;32m   1325\u001b[0m     possible_gradient_type,\n\u001b[0;32m   1326\u001b[0m     executing_eagerly)\n\u001b[0;32m   1327\u001b[0m forward_function, args_with_tangents \u001b[38;5;241m=\u001b[39m forward_backward\u001b[38;5;241m.\u001b[39mforward()\n",
      "File \u001b[1;32mc:\\Users\\Vini\\anaconda3\\envs\\my_IC\\Lib\\site-packages\\tensorflow\\python\\eager\\polymorphic_function\\atomic_function.py:216\u001b[0m, in \u001b[0;36mAtomicFunction.call_preflattened\u001b[1;34m(self, args)\u001b[0m\n\u001b[0;32m    214\u001b[0m \u001b[38;5;28;01mdef\u001b[39;00m \u001b[38;5;21mcall_preflattened\u001b[39m(\u001b[38;5;28mself\u001b[39m, args: Sequence[core\u001b[38;5;241m.\u001b[39mTensor]) \u001b[38;5;241m-\u001b[39m\u001b[38;5;241m>\u001b[39m Any:\n\u001b[0;32m    215\u001b[0m \u001b[38;5;250m  \u001b[39m\u001b[38;5;124;03m\"\"\"Calls with flattened tensor inputs and returns the structured output.\"\"\"\u001b[39;00m\n\u001b[1;32m--> 216\u001b[0m   flat_outputs \u001b[38;5;241m=\u001b[39m \u001b[38;5;28;43mself\u001b[39;49m\u001b[38;5;241;43m.\u001b[39;49m\u001b[43mcall_flat\u001b[49m\u001b[43m(\u001b[49m\u001b[38;5;241;43m*\u001b[39;49m\u001b[43margs\u001b[49m\u001b[43m)\u001b[49m\n\u001b[0;32m    217\u001b[0m   \u001b[38;5;28;01mreturn\u001b[39;00m \u001b[38;5;28mself\u001b[39m\u001b[38;5;241m.\u001b[39mfunction_type\u001b[38;5;241m.\u001b[39mpack_output(flat_outputs)\n",
      "File \u001b[1;32mc:\\Users\\Vini\\anaconda3\\envs\\my_IC\\Lib\\site-packages\\tensorflow\\python\\eager\\polymorphic_function\\atomic_function.py:251\u001b[0m, in \u001b[0;36mAtomicFunction.call_flat\u001b[1;34m(self, *args)\u001b[0m\n\u001b[0;32m    249\u001b[0m \u001b[38;5;28;01mwith\u001b[39;00m record\u001b[38;5;241m.\u001b[39mstop_recording():\n\u001b[0;32m    250\u001b[0m   \u001b[38;5;28;01mif\u001b[39;00m \u001b[38;5;28mself\u001b[39m\u001b[38;5;241m.\u001b[39m_bound_context\u001b[38;5;241m.\u001b[39mexecuting_eagerly():\n\u001b[1;32m--> 251\u001b[0m     outputs \u001b[38;5;241m=\u001b[39m \u001b[38;5;28;43mself\u001b[39;49m\u001b[38;5;241;43m.\u001b[39;49m\u001b[43m_bound_context\u001b[49m\u001b[38;5;241;43m.\u001b[39;49m\u001b[43mcall_function\u001b[49m\u001b[43m(\u001b[49m\n\u001b[0;32m    252\u001b[0m \u001b[43m        \u001b[49m\u001b[38;5;28;43mself\u001b[39;49m\u001b[38;5;241;43m.\u001b[39;49m\u001b[43mname\u001b[49m\u001b[43m,\u001b[49m\n\u001b[0;32m    253\u001b[0m \u001b[43m        \u001b[49m\u001b[38;5;28;43mlist\u001b[39;49m\u001b[43m(\u001b[49m\u001b[43margs\u001b[49m\u001b[43m)\u001b[49m\u001b[43m,\u001b[49m\n\u001b[0;32m    254\u001b[0m \u001b[43m        \u001b[49m\u001b[38;5;28;43mlen\u001b[39;49m\u001b[43m(\u001b[49m\u001b[38;5;28;43mself\u001b[39;49m\u001b[38;5;241;43m.\u001b[39;49m\u001b[43mfunction_type\u001b[49m\u001b[38;5;241;43m.\u001b[39;49m\u001b[43mflat_outputs\u001b[49m\u001b[43m)\u001b[49m\u001b[43m,\u001b[49m\n\u001b[0;32m    255\u001b[0m \u001b[43m    \u001b[49m\u001b[43m)\u001b[49m\n\u001b[0;32m    256\u001b[0m   \u001b[38;5;28;01melse\u001b[39;00m:\n\u001b[0;32m    257\u001b[0m     outputs \u001b[38;5;241m=\u001b[39m make_call_op_in_graph(\n\u001b[0;32m    258\u001b[0m         \u001b[38;5;28mself\u001b[39m,\n\u001b[0;32m    259\u001b[0m         \u001b[38;5;28mlist\u001b[39m(args),\n\u001b[0;32m    260\u001b[0m         \u001b[38;5;28mself\u001b[39m\u001b[38;5;241m.\u001b[39m_bound_context\u001b[38;5;241m.\u001b[39mfunction_call_options\u001b[38;5;241m.\u001b[39mas_attrs(),\n\u001b[0;32m    261\u001b[0m     )\n",
      "File \u001b[1;32mc:\\Users\\Vini\\anaconda3\\envs\\my_IC\\Lib\\site-packages\\tensorflow\\python\\eager\\context.py:1500\u001b[0m, in \u001b[0;36mContext.call_function\u001b[1;34m(self, name, tensor_inputs, num_outputs)\u001b[0m\n\u001b[0;32m   1498\u001b[0m cancellation_context \u001b[38;5;241m=\u001b[39m cancellation\u001b[38;5;241m.\u001b[39mcontext()\n\u001b[0;32m   1499\u001b[0m \u001b[38;5;28;01mif\u001b[39;00m cancellation_context \u001b[38;5;129;01mis\u001b[39;00m \u001b[38;5;28;01mNone\u001b[39;00m:\n\u001b[1;32m-> 1500\u001b[0m   outputs \u001b[38;5;241m=\u001b[39m \u001b[43mexecute\u001b[49m\u001b[38;5;241;43m.\u001b[39;49m\u001b[43mexecute\u001b[49m\u001b[43m(\u001b[49m\n\u001b[0;32m   1501\u001b[0m \u001b[43m      \u001b[49m\u001b[43mname\u001b[49m\u001b[38;5;241;43m.\u001b[39;49m\u001b[43mdecode\u001b[49m\u001b[43m(\u001b[49m\u001b[38;5;124;43m\"\u001b[39;49m\u001b[38;5;124;43mutf-8\u001b[39;49m\u001b[38;5;124;43m\"\u001b[39;49m\u001b[43m)\u001b[49m\u001b[43m,\u001b[49m\n\u001b[0;32m   1502\u001b[0m \u001b[43m      \u001b[49m\u001b[43mnum_outputs\u001b[49m\u001b[38;5;241;43m=\u001b[39;49m\u001b[43mnum_outputs\u001b[49m\u001b[43m,\u001b[49m\n\u001b[0;32m   1503\u001b[0m \u001b[43m      \u001b[49m\u001b[43minputs\u001b[49m\u001b[38;5;241;43m=\u001b[39;49m\u001b[43mtensor_inputs\u001b[49m\u001b[43m,\u001b[49m\n\u001b[0;32m   1504\u001b[0m \u001b[43m      \u001b[49m\u001b[43mattrs\u001b[49m\u001b[38;5;241;43m=\u001b[39;49m\u001b[43mattrs\u001b[49m\u001b[43m,\u001b[49m\n\u001b[0;32m   1505\u001b[0m \u001b[43m      \u001b[49m\u001b[43mctx\u001b[49m\u001b[38;5;241;43m=\u001b[39;49m\u001b[38;5;28;43mself\u001b[39;49m\u001b[43m,\u001b[49m\n\u001b[0;32m   1506\u001b[0m \u001b[43m  \u001b[49m\u001b[43m)\u001b[49m\n\u001b[0;32m   1507\u001b[0m \u001b[38;5;28;01melse\u001b[39;00m:\n\u001b[0;32m   1508\u001b[0m   outputs \u001b[38;5;241m=\u001b[39m execute\u001b[38;5;241m.\u001b[39mexecute_with_cancellation(\n\u001b[0;32m   1509\u001b[0m       name\u001b[38;5;241m.\u001b[39mdecode(\u001b[38;5;124m\"\u001b[39m\u001b[38;5;124mutf-8\u001b[39m\u001b[38;5;124m\"\u001b[39m),\n\u001b[0;32m   1510\u001b[0m       num_outputs\u001b[38;5;241m=\u001b[39mnum_outputs,\n\u001b[1;32m   (...)\u001b[0m\n\u001b[0;32m   1514\u001b[0m       cancellation_manager\u001b[38;5;241m=\u001b[39mcancellation_context,\n\u001b[0;32m   1515\u001b[0m   )\n",
      "File \u001b[1;32mc:\\Users\\Vini\\anaconda3\\envs\\my_IC\\Lib\\site-packages\\tensorflow\\python\\eager\\execute.py:53\u001b[0m, in \u001b[0;36mquick_execute\u001b[1;34m(op_name, num_outputs, inputs, attrs, ctx, name)\u001b[0m\n\u001b[0;32m     51\u001b[0m \u001b[38;5;28;01mtry\u001b[39;00m:\n\u001b[0;32m     52\u001b[0m   ctx\u001b[38;5;241m.\u001b[39mensure_initialized()\n\u001b[1;32m---> 53\u001b[0m   tensors \u001b[38;5;241m=\u001b[39m \u001b[43mpywrap_tfe\u001b[49m\u001b[38;5;241;43m.\u001b[39;49m\u001b[43mTFE_Py_Execute\u001b[49m\u001b[43m(\u001b[49m\u001b[43mctx\u001b[49m\u001b[38;5;241;43m.\u001b[39;49m\u001b[43m_handle\u001b[49m\u001b[43m,\u001b[49m\u001b[43m \u001b[49m\u001b[43mdevice_name\u001b[49m\u001b[43m,\u001b[49m\u001b[43m \u001b[49m\u001b[43mop_name\u001b[49m\u001b[43m,\u001b[49m\n\u001b[0;32m     54\u001b[0m \u001b[43m                                      \u001b[49m\u001b[43minputs\u001b[49m\u001b[43m,\u001b[49m\u001b[43m \u001b[49m\u001b[43mattrs\u001b[49m\u001b[43m,\u001b[49m\u001b[43m \u001b[49m\u001b[43mnum_outputs\u001b[49m\u001b[43m)\u001b[49m\n\u001b[0;32m     55\u001b[0m \u001b[38;5;28;01mexcept\u001b[39;00m core\u001b[38;5;241m.\u001b[39m_NotOkStatusException \u001b[38;5;28;01mas\u001b[39;00m e:\n\u001b[0;32m     56\u001b[0m   \u001b[38;5;28;01mif\u001b[39;00m name \u001b[38;5;129;01mis\u001b[39;00m \u001b[38;5;129;01mnot\u001b[39;00m \u001b[38;5;28;01mNone\u001b[39;00m:\n",
      "\u001b[1;31mKeyboardInterrupt\u001b[0m: "
     ]
    }
   ],
   "source": [
    "model.fit(smote_X_train, smote_y_train, batch_size=BATCH_SIZE, epochs=EPOCHS)"
   ]
  },
  {
   "cell_type": "code",
   "execution_count": null,
   "metadata": {},
   "outputs": [],
   "source": [
    "model2.fit(X_train, y_train, batch_size=BATCH_SIZE, epochs=EPOCHS)"
   ]
  },
  {
   "cell_type": "code",
   "execution_count": null,
   "metadata": {},
   "outputs": [],
   "source": [
    "model.evaluate(X_test, y_test)"
   ]
  },
  {
   "cell_type": "code",
   "execution_count": null,
   "metadata": {},
   "outputs": [],
   "source": [
    "from sklearn.metrics import classification_report\n",
    "y_pred = model.predict(X_test)\n",
    "y_pred = [np.argmax(v) for v in y_pred]\n",
    "arquivo = open(\"saida.txt\", \"w+\")\n",
    "print(classification_report(y_test,y_pred), file = arquivo)"
   ]
  },
  {
   "cell_type": "markdown",
   "metadata": {},
   "source": [
    "# Teste utilizando o ADASYN"
   ]
  },
  {
   "cell_type": "code",
   "execution_count": 35,
   "metadata": {},
   "outputs": [
    {
     "name": "stdout",
     "output_type": "stream",
     "text": [
      "Counter({0: 427590, 2: 403995, 3: 352130, 1: 350329, 4: 343397, 5: 335685})\n"
     ]
    }
   ],
   "source": [
    "from imblearn.over_sampling import ADASYN\n",
    "\n",
    "# Defina o número desejado de amostras para as classes minoritárias\n",
    "\n",
    "target_count = int(0.8 * 427590) # aumentação em 80% da maior classe\n",
    "\n",
    "# Ajustar o ADASYN\n",
    "adasyn = ADASYN(sampling_strategy={1: target_count, 4: target_count, 5: target_count, 3: target_count})\n",
    "adasyn_X_train, adasyn_y_train = adasyn.fit_resample(X_train.astype('float'), y_train)\n",
    "\n",
    "# Verificar a nova distribuição das classes após a aplicação do ADASYN\n",
    "print(Counter(adasyn_y_train))\n"
   ]
  },
  {
   "cell_type": "code",
   "execution_count": 37,
   "metadata": {},
   "outputs": [
    {
     "data": {
      "text/plain": [
       "Counter({0: 427590, 2: 403995, 3: 352130, 1: 350329, 4: 343397, 5: 335685})"
      ]
     },
     "execution_count": 37,
     "metadata": {},
     "output_type": "execute_result"
    }
   ],
   "source": [
    "Counter(adasyn_y_train)"
   ]
  },
  {
   "cell_type": "code",
   "execution_count": 38,
   "metadata": {},
   "outputs": [
    {
     "data": {
      "text/plain": [
       "Counter({0: 427590, 2: 403995, 3: 135361, 1: 105398, 5: 65726, 4: 35533})"
      ]
     },
     "execution_count": 38,
     "metadata": {},
     "output_type": "execute_result"
    }
   ],
   "source": [
    "Counter(y_train)"
   ]
  },
  {
   "cell_type": "code",
   "execution_count": 42,
   "metadata": {},
   "outputs": [
    {
     "data": {
      "image/png": "[encoded data removed]",
      "text/plain": [
       "<Figure size 640x480 with 1 Axes>"
      ]
     },
     "metadata": {},
     "output_type": "display_data"
    }
   ],
   "source": [
    "import matplotlib.pyplot as plt\n",
    "from collections import Counter\n",
    "\n",
    "# Dados fornecidos\n",
    "before_smote = Counter(y_train)\n",
    "after_smote = Counter(adasyn_y_train)\n",
    "\n",
    "# Preparar dados para o gráfico\n",
    "labels = list(before_smote.keys())\n",
    "before_counts = list(before_smote.values())\n",
    "after_counts = [after_smote[label] for label in labels]\n",
    "\n",
    "x = range(len(labels))\n",
    "\n",
    "# Criar o gráfico de barras\n",
    "fig, ax = plt.subplots()\n",
    "bar_width = 0.35\n",
    "\n",
    "bar1 = ax.bar(x, before_counts, bar_width, label='Before ADASYM')\n",
    "bar2 = ax.bar([p + bar_width for p in x], after_counts, bar_width, label='After ADASYM')\n",
    "\n",
    "# Adicionar legendas e títulos\n",
    "ax.set_xlabel('Classes')\n",
    "ax.set_ylabel('Counts')\n",
    "ax.set_title('Counts antes e depois ADASYM')\n",
    "ax.set_xticks([p + bar_width / 2 for p in x])\n",
    "ax.set_xticklabels(labels)\n",
    "ax.legend()\n",
    "\n",
    "# Mostrar o gráfico\n",
    "plt.show()\n"
   ]
  },
  {
   "cell_type": "markdown",
   "metadata": {},
   "source": [
    "## Random Forest Adasyn"
   ]
  },
  {
   "cell_type": "code",
   "execution_count": 44,
   "metadata": {},
   "outputs": [
    {
     "name": "stdout",
     "output_type": "stream",
     "text": [
      "              precision    recall  f1-score   support\n",
      "\n",
      "           0       0.73      0.76      0.75     47465\n",
      "           1       0.45      0.32      0.38     11630\n",
      "           2       0.65      0.70      0.68     44853\n",
      "           3       0.44      0.37      0.40     15132\n",
      "           4       0.47      0.32      0.38      3980\n",
      "           5       0.74      0.87      0.80      7341\n",
      "\n",
      "    accuracy                           0.65    130401\n",
      "   macro avg       0.58      0.56      0.56    130401\n",
      "weighted avg       0.64      0.65      0.64    130401\n",
      "\n"
     ]
    }
   ],
   "source": [
    "from sklearn.ensemble import RandomForestClassifier\n",
    "Random_Forest = RandomForestClassifier(n_estimators=80, criterion='entropy', random_state = 0)\n",
    "Random_Forest.fit(adasyn_X_train, adasyn_y_train)\n",
    "predict = Random_Forest.predict(X_test)\n",
    "print(classification_report(y_test, predict))"
   ]
  },
  {
   "cell_type": "code",
   "execution_count": 45,
   "metadata": {},
   "outputs": [
    {
     "data": {
      "text/plain": [
       "0.6498416423186939"
      ]
     },
     "execution_count": 45,
     "metadata": {},
     "output_type": "execute_result"
    }
   ],
   "source": [
    "accuracy_score(y_test, predict)"
   ]
  },
  {
   "cell_type": "markdown",
   "metadata": {},
   "source": [
    "# Deep learning "
   ]
  },
  {
   "cell_type": "code",
   "execution_count": null,
   "metadata": {},
   "outputs": [],
   "source": [
    "model = tf.keras.Sequential([\n",
    "    tf.layers.Input(shape=(15,)),  # Entrada de dimensão 15\n",
    "    tf.layers.Dense(64, activation='relu'),\n",
    "    tf.layers.Dense(32, activation='relu'),\n",
    "    tf.layers.Dense(16, activation='relu'),\n",
    "    tf.layers.Dense(6, activation='softmax')  # Para classificação multiclasse com 6 classes\n",
    "])"
   ]
  },
  {
   "cell_type": "code",
   "execution_count": null,
   "metadata": {},
   "outputs": [],
   "source": [
    "model.compile(optimizer='adam',\n",
    "              loss='sparse_categorical_crossentropy',  # Para problemas de classificação multiclasse\n",
    "              metrics=['accuracy'])"
   ]
  },
  {
   "cell_type": "code",
   "execution_count": null,
   "metadata": {},
   "outputs": [],
   "source": [
    "model.summary()\n"
   ]
  },
  {
   "cell_type": "code",
   "execution_count": null,
   "metadata": {},
   "outputs": [],
   "source": [
    "history = model.fit(adasyn_X_train, adasyn_y_train, epochs=50, batch_size=32, validation_split=0.2)"
   ]
  },
  {
   "cell_type": "code",
   "execution_count": null,
   "metadata": {},
   "outputs": [],
   "source": [
    "loss, accuracy = model.evaluate(X_test, y_test)\n",
    "print(f'Loss: {loss}')\n",
    "print(f'Accuracy: {accuracy}')\n",
    "\n",
    "# Fazer previsões\n",
    "predictions = model.predict(X_test)\n",
    "\n",
    "# Converter previsões para rótulos\n",
    "predicted_classes = np.argmax(predictions, axis=1)"
   ]
  },
  {
   "cell_type": "code",
   "execution_count": 46,
   "metadata": {},
   "outputs": [],
   "source": [
    "import pickle"
   ]
  },
  {
   "cell_type": "code",
   "execution_count": 47,
   "metadata": {},
   "outputs": [],
   "source": [
    "with open('adasyn.pkl', mode = 'wb') as f:\n",
    "  pickle.dump([adasyn_X_train, adasyn_y_train, X_test, y_test], f)"
   ]
  },
  {
   "cell_type": "code",
   "execution_count": null,
   "metadata": {},
   "outputs": [],
   "source": [
    "with open('adasyn.pkl', 'rb') as f:\n",
    "  adasyn_X_train, adasyn_y_train, X_test, y_test = pickle.load(f)"
   ]
  },
  {
   "cell_type": "code",
   "execution_count": null,
   "metadata": {},
   "outputs": [],
   "source": [
    "2024-07-12 21:43:51.604212: I tensorflow/core/util/port.cc:110] oneDNN custom operations are on. You may see slightly different numerical results due to floating-point round-off errors from different computation orders. To turn them off, set the environment variable `TF_ENABLE_ONEDNN_OPTS=0`.\n",
    "2024-07-12 21:43:51.638427: I tensorflow/core/platform/cpu_feature_guard.cc:182] This TensorFlow binary is optimized to use available CPU instructions in performance-critical operations.\n",
    "To enable the following instructions: AVX2 AVX512F AVX512_VNNI FMA, in other operations, rebuild TensorFlow with the appropriate compiler flags.\n",
    "2024-07-12 21:43:52.168638: W tensorflow/compiler/tf2tensorrt/utils/py_utils.cc:38] TF-TRT Warning: Could not find TensorRT\n",
    "2024-07-12 21:43:52.793126: W tensorflow/core/common_runtime/gpu/gpu_device.cc:1956] Cannot dlopen some GPU libraries. Please make sure the missing libraries mentioned above are installed properly if you would like to use GPU. Follow the guide at https://www.tensorflow.org/install/gpu for how to download and setup the required libraries for your platform.\n",
    "Skipping registering GPU devices..."
   ]
  },
  {
   "cell_type": "code",
   "execution_count": 1,
   "metadata": {},
   "outputs": [
    {
     "ename": "NameError",
     "evalue": "name 'pickle' is not defined",
     "output_type": "error",
     "traceback": [
      "\u001b[1;31m---------------------------------------------------------------------------\u001b[0m",
      "\u001b[1;31mNameError\u001b[0m                                 Traceback (most recent call last)",
      "Cell \u001b[1;32mIn[1], line 2\u001b[0m\n\u001b[0;32m      1\u001b[0m \u001b[38;5;28;01mwith\u001b[39;00m \u001b[38;5;28mopen\u001b[39m(\u001b[38;5;124m'\u001b[39m\u001b[38;5;124mnormal.pkl\u001b[39m\u001b[38;5;124m'\u001b[39m, mode \u001b[38;5;241m=\u001b[39m \u001b[38;5;124m'\u001b[39m\u001b[38;5;124mwb\u001b[39m\u001b[38;5;124m'\u001b[39m) \u001b[38;5;28;01mas\u001b[39;00m f:\n\u001b[1;32m----> 2\u001b[0m   \u001b[43mpickle\u001b[49m\u001b[38;5;241m.\u001b[39mdump([X_train, y_train, X_test, y_test], f)\n",
      "\u001b[1;31mNameError\u001b[0m: name 'pickle' is not defined"
     ]
    }
   ],
   "source": [
    "import pickle\n",
    "with open('normal.pkl', mode = 'wb') as f:\n",
    "  pickle.dump([X_train, y_train, X_test, y_test], f)"
   ]
  }
 ],
 "metadata": {
  "kernelspec": {
   "display_name": "my_IC",
   "language": "python",
   "name": "python3"
  },
  "language_info": {
   "codemirror_mode": {
    "name": "ipython",
    "version": 3
   },
   "file_extension": ".py",
   "mimetype": "text/x-python",
   "name": "python",
   "nbconvert_exporter": "python",
   "pygments_lexer": "ipython3",
   "version": "3.12.4"
  }
 },
 "nbformat": 4,
 "nbformat_minor": 2
}
